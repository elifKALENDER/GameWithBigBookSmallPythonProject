{
 "cells": [
  {
   "cell_type": "code",
   "execution_count": null,
   "id": "d44e0efd",
   "metadata": {},
   "outputs": [],
   "source": [
    "\"\"\"Birtday Paradox Simulation,by Al sweigart al@inventwithpython.com\n",
    "Explore the surpriding probabilities of the \"Birthday Paradox\". \n",
    "More info at https://en.wikipedia.org/wiki/Birthday_problem\n",
    "View this code at https://nostarch.com.big-book-small-python-projects\n",
    "Tags: short, math, simulation\"\"\""
   ]
  },
  {
   "cell_type": "code",
   "execution_count": null,
   "id": "ce9de849",
   "metadata": {},
   "outputs": [],
   "source": []
  },
  {
   "cell_type": "code",
   "execution_count": null,
   "id": "fb552ef2",
   "metadata": {},
   "outputs": [],
   "source": []
  }
 ],
 "metadata": {
  "kernelspec": {
   "display_name": "Python 3 (ipykernel)",
   "language": "python",
   "name": "python3"
  },
  "language_info": {
   "codemirror_mode": {
    "name": "ipython",
    "version": 3
   },
   "file_extension": ".py",
   "mimetype": "text/x-python",
   "name": "python",
   "nbconvert_exporter": "python",
   "pygments_lexer": "ipython3",
   "version": "3.9.13"
  }
 },
 "nbformat": 4,
 "nbformat_minor": 5
}
