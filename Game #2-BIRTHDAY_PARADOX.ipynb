{
 "cells": [
  {
   "cell_type": "code",
   "execution_count": 30,
   "id": "61c10453",
   "metadata": {},
   "outputs": [
    {
     "data": {
      "text/plain": [
       "'Birtday Paradox Simulation,by Al sweigart al@inventwithpython.com.\\nExplore the surpriding probabilities of the \"Birthday Paradox\". \\nMore info at https://en.wikipedia.org/wiki/Birthday_problem\\nView this code at https://nostarch.com.big-book-small-python-projects\\nTags: short, math, simulation'"
      ]
     },
     "execution_count": 30,
     "metadata": {},
     "output_type": "execute_result"
    }
   ],
   "source": [
    "\"\"\"Birtday Paradox Simulation,by Al sweigart al@inventwithpython.com.\n",
    "Explore the surpriding probabilities of the \"Birthday Paradox\". \n",
    "More info at https://en.wikipedia.org/wiki/Birthday_problem\n",
    "View this code at https://nostarch.com.big-book-small-python-projects\n",
    "Tags: short, math, simulation\"\"\""
   ]
  },
  {
   "cell_type": "code",
   "execution_count": 17,
   "id": "a1e19c18",
   "metadata": {},
   "outputs": [],
   "source": [
    "import datetime,random"
   ]
  },
  {
   "cell_type": "code",
   "execution_count": 18,
   "id": "3d7199f9",
   "metadata": {},
   "outputs": [],
   "source": [
    "def getBirthdays(number0fBirthdays):\n",
    "    \"\"\"Returns a list of numberr random date objects for birthdays.\"\"\"\n",
    "    birthdays=[]\n",
    "    for i in range(number0fBirthdays):\n",
    "        # The year is unimportant for our simulation, as long as all\n",
    "        # birthdays have the same year.\n",
    "        start0fYear = datetime.date(2001, 1,1)\n",
    "        \n",
    "        # Get a random day into the year:\n",
    "        randomNumber0fDays = datetime.timedelta(random.randint(0,364))\n",
    "        birthday=start0fYear + randomNumber0fDays\n",
    "        birthdays.append(birthday)\n",
    "    return birthdays"
   ]
  },
  {
   "cell_type": "code",
   "execution_count": 19,
   "id": "957379c7",
   "metadata": {},
   "outputs": [],
   "source": [
    "def getMatch(birthdays):\n",
    "    \"\"\"Returns the dte object of a birthday that occurs more than once\n",
    "    in the birthdays list.\"\"\"\n",
    "    if len(birthdays) == len(set(birthdays)):\n",
    "        return None # All birthdays are unique, so return None.\n",
    "    \n",
    "    #compare each birthday to every other birthday:\n",
    "    for a, birthdayA in enumerate(birthdays):\n",
    "        for b, birthdayB in enumerate(birthdays[a+1:]):\n",
    "            if birthdayA == birthdayB:\n",
    "                return birthdayA #Return the matching birthday."
   ]
  },
  {
   "cell_type": "code",
   "execution_count": 20,
   "id": "17e6a713",
   "metadata": {},
   "outputs": [
    {
     "name": "stdout",
     "output_type": "stream",
     "text": [
      "Birthday Paradox,by Al weigart al@inventwithpython.com\n",
      "The Birtday Paradox shows us that in a group of N people, The odds\n",
      "This program does a Monte Carlo simulation (that is, repeated random\n",
      "simulations) to explore this concept\n",
      "(It is not actually a paradox, it is just a surprising result.)\n"
     ]
    }
   ],
   "source": [
    "# Display the intro:\n",
    "print('''Birthday Paradox,by Al weigart al@inventwithpython.com\n",
    "The Birtday Paradox shows us that in a group of N people, The odds\n",
    "This program does a Monte Carlo simulation (that is, repeated random\n",
    "simulations) to explore this concept\n",
    "(It is not actually a paradox, it is just a surprising result.)''')"
   ]
  },
  {
   "cell_type": "code",
   "execution_count": 21,
   "id": "69c55297",
   "metadata": {},
   "outputs": [],
   "source": [
    "# Set up a tuple of month names in order:\n",
    "MONTHS = ('Jan', 'Feb', 'Mar', 'Apr', 'May', 'Jun',\n",
    "         'Jul', 'Aug', 'Sep', 'Oct', 'Nov', 'Dec')"
   ]
  },
  {
   "cell_type": "code",
   "execution_count": 22,
   "id": "4e74077c",
   "metadata": {},
   "outputs": [
    {
     "name": "stdout",
     "output_type": "stream",
     "text": [
      "How many birthdays shall I generate?(Max 100)\n",
      "> 100\n",
      "\n"
     ]
    }
   ],
   "source": [
    "while True: # Keep asking until the user enters a valid amount.\n",
    "    print('How many birthdays shall I generate?(Max 100)')\n",
    "    response = input('> ')\n",
    "    if response.isdecimal() and (0 < int(response) <= 100):\n",
    "        numBDays = int(response)\n",
    "        break # User has entered a valid amount.\n",
    "print()"
   ]
  },
  {
   "cell_type": "code",
   "execution_count": 23,
   "id": "affe9ffa",
   "metadata": {},
   "outputs": [
    {
     "name": "stdout",
     "output_type": "stream",
     "text": [
      "Here are 100 birthdays:\n",
      "Jun 4,Mar 28,Apr 9,Dec 4,Aug 16,Sep 21,Feb 9,Nov 12,Dec 4,Oct 15,Nov 5,Jun 7,Jul 1,Apr 23,Jun 18,Sep 13,Oct 2,May 29,Jun 7,Nov 25,Jan 30,Aug 20,May 6,Dec 7,Feb 12,Feb 23,Nov 21,Jan 2,Aug 24,Oct 6,Sep 25,Jun 18,Aug 13,Aug 15,May 28,Oct 17,Jul 26,Feb 9,Aug 16,Nov 18,Oct 11,Jun 4,Feb 10,Jul 4,Nov 21,Jun 24,Mar 10,Jan 8,Apr 12,Nov 9,Jan 7,Apr 12,Apr 27,Nov 29,Aug 3,Oct 30,Apr 18,Mar 25,Nov 20,Dec 23,Oct 13,May 4,Aug 4,Jan 4,Feb 18,Dec 28,Apr 22,Feb 18,Dec 17,Aug 17,Jul 4,Jan 17,Jun 23,Aug 18,Jul 6,Sep 14,Sep 27,Oct 17,Mar 2,Jan 16,Mar 11,Oct 18,Dec 16,Apr 29,Feb 9,Dec 1,Aug 29,Aug 20,Sep 3,Nov 6,Dec 27,Mar 18,May 12,May 27,May 7,Sep 27,Aug 25,Mar 3,Mar 14,Jul 17\n",
      "\n"
     ]
    }
   ],
   "source": [
    "# Generate and display the birhdays:\n",
    "print('Here are', numBDays, 'birthdays:')\n",
    "birthdays = getBirthdays(numBDays)\n",
    "for i, birthday in enumerate(birthdays):\n",
    "    if i !=0:\n",
    "        #Display a comma for each birthday after the first birthday.\n",
    "        print(',', end='')\n",
    "    monthName = MONTHS[birthday.month-1]\n",
    "    dateText = '{} {}'.format(monthName,birthday.day)\n",
    "    print(dateText,  end='')\n",
    "print()\n",
    "print()"
   ]
  },
  {
   "cell_type": "code",
   "execution_count": 24,
   "id": "6a901687",
   "metadata": {},
   "outputs": [],
   "source": [
    "# Determine if there are two birthdays that match.\n",
    "match = getMatch(birthdays)"
   ]
  },
  {
   "cell_type": "code",
   "execution_count": 25,
   "id": "903b7bdf",
   "metadata": {},
   "outputs": [
    {
     "name": "stdout",
     "output_type": "stream",
     "text": [
      "In this simulation,multiple people have a birthday on Jun 4\n",
      "\n"
     ]
    }
   ],
   "source": [
    "# Display the results:\n",
    "print('In this simulation,', end='')\n",
    "if match !=None:\n",
    "    monthName = MONTHS[match.month -1]\n",
    "    dateText= '{} {}'.format(monthName, match.day)\n",
    "    print('multiple people have a birthday on', dateText)\n",
    "else:\n",
    "    print('There are no matching birthdays.')\n",
    "print()"
   ]
  },
  {
   "cell_type": "code",
   "execution_count": 27,
   "id": "1e7212c6",
   "metadata": {},
   "outputs": [
    {
     "name": "stdout",
     "output_type": "stream",
     "text": [
      "Generating 100 random birthdays 100,000 times...\n",
      "Press Enter to begin...50\n"
     ]
    },
    {
     "data": {
      "text/plain": [
       "'50'"
      ]
     },
     "execution_count": 27,
     "metadata": {},
     "output_type": "execute_result"
    }
   ],
   "source": [
    "# Run through 100,000 simulations:\n",
    "print('Generating', numBDays, 'random birthdays 100,000 times...')\n",
    "input('Press Enter to begin...')"
   ]
  },
  {
   "cell_type": "code",
   "execution_count": 28,
   "id": "7ffc55b5",
   "metadata": {},
   "outputs": [
    {
     "name": "stdout",
     "output_type": "stream",
     "text": [
      "Let's run another 100,000 simulations.\n",
      "0 simulations run...\n",
      "10000 simulations run...\n",
      "20000 simulations run...\n",
      "30000 simulations run...\n",
      "40000 simulations run...\n",
      "50000 simulations run...\n",
      "60000 simulations run...\n",
      "70000 simulations run...\n",
      "80000 simulations run...\n",
      "90000 simulations run...\n",
      "100,000 simulations run.\n"
     ]
    }
   ],
   "source": [
    "print('Let\\'s run another 100,000 simulations.')\n",
    "simMatch = 0 # How many simulations had matching birthdays in them.\n",
    "for i in range(100_000):\n",
    "    #Report on the progress every 10,000 simulations:\n",
    "    if i% 10_000==0:\n",
    "        print(i, 'simulations run...')\n",
    "    birthdays= getBirthdays(numBDays)\n",
    "    if getMatch(birthdays)!= None:\n",
    "        simMatch = simMatch +1\n",
    "print('100,000 simulations run.')"
   ]
  },
  {
   "cell_type": "code",
   "execution_count": 29,
   "id": "692b5964",
   "metadata": {},
   "outputs": [
    {
     "name": "stdout",
     "output_type": "stream",
     "text": [
      "Out of 100,000 simulations of 100 people,there was a\n",
      "matching birthday in that group 100000 times.This means\n",
      "that 100 people have a 100.0 % chance of\n",
      "having a matching birthday in their group.\n",
      "That's probably more than you would think!\n"
     ]
    }
   ],
   "source": [
    "# Display simulation results:\n",
    "probability = round(simMatch / 100_000*100,2)\n",
    "print('Out of 100,000 simulations of', numBDays, 'people,there was a')\n",
    "print('matching birthday in that group', simMatch,'times.This means')\n",
    "print('that',numBDays, 'people have a', probability,'% chance of')\n",
    "print('having a matching birthday in their group.')\n",
    "print('That\\'s probably more than you would think!')"
   ]
  },
  {
   "cell_type": "code",
   "execution_count": null,
   "id": "b464b6fc",
   "metadata": {},
   "outputs": [],
   "source": []
  }
 ],
 "metadata": {
  "kernelspec": {
   "display_name": "Python 3 (ipykernel)",
   "language": "python",
   "name": "python3"
  },
  "language_info": {
   "codemirror_mode": {
    "name": "ipython",
    "version": 3
   },
   "file_extension": ".py",
   "mimetype": "text/x-python",
   "name": "python",
   "nbconvert_exporter": "python",
   "pygments_lexer": "ipython3",
   "version": "3.9.13"
  }
 },
 "nbformat": 4,
 "nbformat_minor": 5
}
