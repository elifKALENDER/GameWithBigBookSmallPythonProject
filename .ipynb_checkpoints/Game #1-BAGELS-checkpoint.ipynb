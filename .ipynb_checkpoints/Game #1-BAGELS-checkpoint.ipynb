{
 "cells": [
  {
   "cell_type": "code",
   "execution_count": null,
   "id": "eeea2f39",
   "metadata": {},
   "outputs": [],
   "source": [
    "\"\"\" Bagels, by Al Sweigart al@inventwithpython.com\n",
    "A deductive logic game where you must guess a number based on clues.\n",
    "View this code at https://nostarch.com/big-book-small-python-projects\n",
    "A version of this game is featured in the book \"Invent Your Own \n",
    "Computer Games with Python\" https://nostarch.com/inventwithpython\n",
    "Tags: short, game, puzzle\"\"\""
   ]
  },
  {
   "cell_type": "code",
   "execution_count": 3,
   "id": "f429a452",
   "metadata": {},
   "outputs": [],
   "source": [
    "import random"
   ]
  },
  {
   "cell_type": "code",
   "execution_count": 4,
   "id": "9dd68357",
   "metadata": {},
   "outputs": [],
   "source": [
    "NUM_DIGITS= 3   "
   ]
  },
  {
   "cell_type": "code",
   "execution_count": 5,
   "id": "3ff44817",
   "metadata": {},
   "outputs": [],
   "source": [
    "MAX_GUESSES= 10 "
   ]
  },
  {
   "cell_type": "code",
   "execution_count": 6,
   "id": "da13df0b",
   "metadata": {},
   "outputs": [],
   "source": [
    "def main():\n",
    "    print('''Bagels, a deductive logic game.\n",
    "    by Al Sweigart al@inventwithpython.com\n",
    "    I am thinking of a {}-digit number with no repeated digits.\n",
    "    Try to guess what it is. Here are some clues:\n",
    "    When I say:    That means:\n",
    "      Pico         One digit is correct but in the wrong position.\n",
    "      Fermi        One digit is correct and in the right position.\n",
    "      Bagels       No digit is correct.\n",
    "    For example, if the secret number was 248 and your guess was 843, the \n",
    "    clues would be Fermi Pico.'''.format(NUM_DIGITS))"
   ]
  },
  {
   "cell_type": "code",
   "execution_count": null,
   "id": "f42d3663",
   "metadata": {},
   "outputs": [
    {
     "name": "stdout",
     "output_type": "stream",
     "text": [
      "I have thought up a number.\n",
      " You have 10 guesses to get it.\n",
      "Guess #1: \n"
     ]
    }
   ],
   "source": [
    "    while True:\n",
    "        secretNum = getSecretNum()\n",
    "        print('I have thought up a number.')\n",
    "        print(' You have {} guesses to get it.'.format(MAX_GUESSES))\n",
    "        \n",
    "        numGuesses = 1\n",
    "        while numGuesses <= MAX_GUESSES:\n",
    "            guess = ''\n",
    "            while len(guess) != NUM_DIGITS or not guess.isdecimal():\n",
    "                print('Guess #{}: '.format(numGuesses))\n",
    "                guess = input('> ')\n",
    "                \n",
    "            clues = getClues(guess, secretNum)\n",
    "            print(clues)\n",
    "            numGuesses += 1\n",
    "            \n",
    "            if guess == secretNum:\n",
    "                break\n",
    "            if numGuesses > MAX_GUESSES:\n",
    "                print('You ran out of guesses.')\n",
    "                print('Thae answer was {}.'.format(secretNum))\n",
    "        print('Do you want to play again? (yes or no)')\n",
    "        if not input('> ').lower().startswith('y'):\n",
    "            break\n",
    "    print('Thanks for playing!')"
   ]
  },
  {
   "cell_type": "code",
   "execution_count": 2,
   "id": "6f564872",
   "metadata": {},
   "outputs": [],
   "source": [
    "def getSecretNum():\n",
    "    numbers = list('0123456789')\n",
    "    random.shuffle(numbers)\n",
    "    secretNum = ''\n",
    "    for i in range(NUM_DIGITS):\n",
    "        secretNum += str(numbers[i])\n",
    "    return secretNum    \n",
    "    "
   ]
  },
  {
   "cell_type": "code",
   "execution_count": 8,
   "id": "d18cbbf9",
   "metadata": {},
   "outputs": [],
   "source": [
    "def getClues(guess, secretNum):\n",
    "    if guess == secretNum:\n",
    "        return 'You got it!'\n",
    "    clues =[]\n",
    "    \n",
    "    for i in range(len(guess)):\n",
    "        if guess[i] == secretNum[i]:\n",
    "            clues.append('Fermi')\n",
    "        elif guess[i] in secretNum:\n",
    "            clues.append('Pico')\n",
    "    if len(clues) == 0:\n",
    "        return 'Bagels'\n",
    "    else:\n",
    "        clues.sort()\n",
    "        return ' '.join(clues)\n",
    "    "
   ]
  },
  {
   "cell_type": "code",
   "execution_count": null,
   "id": "c708da2b",
   "metadata": {},
   "outputs": [],
   "source": [
    "if __name__== '__main__':\n",
    "    main()"
   ]
  },
  {
   "cell_type": "code",
   "execution_count": null,
   "id": "86f0e69c",
   "metadata": {},
   "outputs": [],
   "source": []
  }
 ],
 "metadata": {
  "kernelspec": {
   "display_name": "Python 3 (ipykernel)",
   "language": "python",
   "name": "python3"
  },
  "language_info": {
   "codemirror_mode": {
    "name": "ipython",
    "version": 3
   },
   "file_extension": ".py",
   "mimetype": "text/x-python",
   "name": "python",
   "nbconvert_exporter": "python",
   "pygments_lexer": "ipython3",
   "version": "3.9.12"
  }
 },
 "nbformat": 4,
 "nbformat_minor": 5
}
