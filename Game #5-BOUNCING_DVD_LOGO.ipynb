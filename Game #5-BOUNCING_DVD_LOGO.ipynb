{
 "cells": [
  {
   "cell_type": "code",
   "execution_count": 1,
   "id": "1120140f",
   "metadata": {},
   "outputs": [
    {
     "data": {
      "text/plain": [
       "'Bouncing DVD logo animation, you have to be \"of a certain age\" to appreciate this. Press Ctrl-C to stop.\\nNOTE: So not resize the terminal window whie this program running.\\nTags: short, artistic, bext'"
      ]
     },
     "execution_count": 1,
     "metadata": {},
     "output_type": "execute_result"
    }
   ],
   "source": [
    "\"\"\"Bouncing DVD logo animation, you have to be \"of a certain age\" to appreciate this. Press Ctrl-C to stop.\n",
    "NOTE: So not resize the terminal window whie this program running.\n",
    "Tags: short, artistic, bext\"\"\""
   ]
  },
  {
   "cell_type": "code",
   "execution_count": 2,
   "id": "10e828d1",
   "metadata": {},
   "outputs": [],
   "source": [
    "import sys, random,time\n",
    "\n",
    "try:\n",
    "    import bext\n",
    "except ImportError:\n",
    "    print('This program requires the bext modeule, which you.')\n",
    "    print('can install by following the instructions at')\n",
    "    print('https://pypi.org/project/Bext/')\n",
    "    sys.exit()"
   ]
  },
  {
   "cell_type": "code",
   "execution_count": 3,
   "id": "543e623e",
   "metadata": {},
   "outputs": [
    {
     "name": "stdout",
     "output_type": "stream",
     "text": [
      "Defaulting to user installation because normal site-packages is not writeable\n",
      "Requirement already satisfied: Bext in c:\\users\\elfik\\appdata\\roaming\\python\\python310\\site-packages (0.1.1)\n",
      "Requirement already satisfied: colorama<=0.4.5 in c:\\users\\elfik\\appdata\\roaming\\python\\python310\\site-packages (from Bext) (0.4.5)\n",
      "Note: you may need to restart the kernel to use updated packages.\n"
     ]
    }
   ],
   "source": [
    "pip install Bext"
   ]
  },
  {
   "cell_type": "code",
   "execution_count": 4,
   "id": "9cf07338",
   "metadata": {},
   "outputs": [],
   "source": [
    "# Set up the constants:\n",
    "WIDTH, HEIGHT=bext.size()"
   ]
  },
  {
   "cell_type": "code",
   "execution_count": 5,
   "id": "fcdce4d6",
   "metadata": {},
   "outputs": [],
   "source": [
    "# We can't print to the last column on Windows without it adding a\n",
    "# newline automatically, so reduce the witdth by one:\n",
    "WIDTH-=1\n",
    "\n",
    "NUMBER_OF_LOGOS=5 # (!) Try changing this to 1 or 100.\n",
    "PAUSE_AMOUNT=0.2 # (!) Try changing this to 1.0 or 0.0\n",
    "# (!) Try changing this list to fewer colors:\n",
    "COLORS =['red', 'green', 'blue', 'magenta','cyan','white']\n",
    "\n",
    "UP_RIGHT= 'ur'\n",
    "UP_LEFT= 'ul'\n",
    "DOWN_RIGHT= 'dr'\n",
    "DOWN_LEFT= 'dl'\n",
    "DIRECTIONS= (UP_RIGHT, UP_LEFT, DOWN_RIGHT, DOWN_LEFT)\n"
   ]
  },
  {
   "cell_type": "code",
   "execution_count": 6,
   "id": "5a2860df",
   "metadata": {},
   "outputs": [],
   "source": [
    "# Key names for logo dictionaries:\n",
    "COLOR = 'color'\n",
    "X='x'\n",
    "Y= 'y'\n",
    "DIR = 'directions'\n"
   ]
  },
  {
   "cell_type": "code",
   "execution_count": 11,
   "id": "22b50ef3",
   "metadata": {},
   "outputs": [],
   "source": [
    "def main ():\n",
    "    bext.clear()\n",
    "    \n",
    "    # Generate some logos.\n",
    "    logos = []\n",
    "    for i in range(NUMBER_OF_LOGOS ):\n",
    "           logos.append({COLOR: random.choice(COLORS),\n",
    "                         X: random.randint(1, WIDTH - 4),\n",
    "                         Y: random.randint(1, HEIGHT - 4),\n",
    "                         DIR: random.choice(DIRECTIONS)})\n",
    "    if logos[-1][X] % 2 == 1:\n",
    "                # Make sure X is even so it can hit the corner.\n",
    "                logos[-1][X] -=1\n",
    "                \n",
    "    cornerBounces = 0 # Count how many times a logo hits a corner.\n",
    "    while True: # Main program loop.\n",
    "        for logo in logos: # Handle each logo in the logos list.\n",
    "            # Erase the logo's current location:\n",
    "            bext.goto(logo[X], logo[Y])\n",
    "            print(' ', end='') # (!) Try commenting this line out.\n",
    "            \n",
    "            originalDirection= logo[DIR]\n",
    "            \n",
    "            # See if the logo bounces off the corners:\n",
    "            if logo[X] == 0 and logo[Y] == 0:\n",
    "                logo[DIR] = DOWN_RIGHT\n",
    "                cornerBounces +=1\n",
    "            elif logo[X] == 0 and logo[Y] == HEIGHT - 1:\n",
    "                logo[DIR] = UP_RIGHT\n",
    "                cornetBounces +=1\n",
    "            elif logo[X]== WIDTH -3 and logo[Y] == 0:\n",
    "                logo[DIR] = DOWN_LEFT\n",
    "                cornerBounces += 1\n",
    "            elif logo[X] == WIDTH -3 and logo [Y] == HEIGHT - 1:\n",
    "                logo[DIR] = UP_LEFT\n",
    "                cornerBounces += 1\n",
    "                \n",
    "            # See if the logo bounces off the left edge:\n",
    "            elif logo[X] == 0 and logo[DIR] == UP_LEFT:\n",
    "                logo[DIR] = UP_RIGHT\n",
    "            elif logo[X] == 0 and logo[DIR] == DOWN_LEFT:\n",
    "                logo[DIR] = DOWN_RIGHT\n",
    "            \n",
    "            # See if gthe logo bounces off the right edge:\n",
    "            # (WIDTH -3 because 'DVD' has 3 letters.)\n",
    "            elif logo[X] == WIDTH - 3 and logo[DIR] == UP_RIGHT:\n",
    "                logo[DIR] = UP_LEFT\n",
    "            elif logo[X]== WIDTH -3 and logo[DIR] == DOWN_RIGHT:\n",
    "                logo[DIR] = DOWN_LEFT\n",
    "            \n",
    "            # See if the logo bounces off the top edge:\n",
    "            elif logo[Y] == 0 and logo[DIR] == UP_LEFT:\n",
    "                logo[DIR] = DOWN_LEFT\n",
    "            elif logo[Y] == 0 and logo[DIR] == UP_RIGHT:\n",
    "                logo[DIR] = DOWN_RIGHT\n",
    "                \n",
    "            # See if the logo bounces off the bottom edge:\n",
    "            elif logo[Y] == HEIGHT - 1 and logo[DIR] ==DOWN_LEFT:\n",
    "                logo[DIR] = UP_LEFT\n",
    "            elif logo[Y] == HEIGHT -1 and logo[DIR] == DOWN_RIGHT:\n",
    "                logo[DIR] = UP_RIGHT\n",
    "                \n",
    "            if logo[DIR] != originalDirection:\n",
    "                #Change colro when the logo bounces:\n",
    "                logo[COLOR] = random.choice(COLORS)\n",
    "                \n",
    "            # Move the logo. (X moves by 2 because the terminal\n",
    "            # characters are twice as tall as they are wide.)\n",
    "            if logo[DIR] == UP_RIGHT:\n",
    "                logo[X] +=2\n",
    "                logo[Y] -=1\n",
    "            elif logo[DIR] == UP_LEFT:\n",
    "                logo[X] -= 2\n",
    "                logo[Y] -= 1\n",
    "            elif logo[DIR] == DOWN_RIGHT:\n",
    "                logo[X] += 2\n",
    "                logo[Y] += 1\n",
    "            elif logo[DIR] == DOWN_LEFT:\n",
    "                logo[X] -=2\n",
    "                logo[Y] += 1\n",
    "            \n",
    "        # Display number of corenre bounces:\n",
    "        bext.goto(5, 0)\n",
    "        bext.fg('white')\n",
    "        print('Corner bounces:' , cornerBounces, end='')\n",
    "        \n",
    "        for logo in logos:\n",
    "            # Draw the logos at their new location:\n",
    "            bext.goto(logo[X],logo[Y])\n",
    "            bext.fg(logo[COLOR])\n",
    "            print('DVD', end='')\n",
    "            \n",
    "        bext.goto(0, 0)\n",
    "        \n",
    "        sys.stdout.flush() # (Required for bext-using programs.)\n",
    "        time.sleep(PAUSE_AMOUNT)\n",
    "                \n",
    "                \n",
    "            "
   ]
  },
  {
   "cell_type": "code",
   "execution_count": 12,
   "id": "ced611b2",
   "metadata": {},
   "outputs": [
    {
     "name": "stdout",
     "output_type": "stream",
     "text": [
      "     Corner bounces: 0DVDDVDDVDDVDDVD     Corner bounces: 0DVDDVDDVDDVDDVD     Corner bounces: 0DVDDVDDVDDVDDVD     Corner bounces: 0DVDDVDDVDDVDDVD     Corner bounces: 0DVDDVDDVDDVDDVD     Corner bounces: 0DVDDVDDVDDVDDVD     Corner bounces: 0DVDDVDDVDDVDDVD     Corner bounces: 0DVDDVDDVDDVDDVD     Corner bounces: 0DVDDVDDVDDVDDVD     Corner bounces: 0DVDDVDDVDDVDDVD     Corner bounces: 0DVDDVDDVDDVDDVD     Corner bounces: 0DVDDVDDVDDVDDVD     Corner bounces: 0DVDDVDDVDDVDDVD     Corner bounces: 0DVDDVDDVDDVDDVD     Corner bounces: 0DVDDVDDVDDVDDVD     Corner bounces: 0DVDDVDDVDDVDDVD     Corner bounces: 0DVDDVDDVDDVDDVD     Corner bounces: 0DVDDVDDVDDVDDVD     Corner bounces: 0DVDDVDDVDDVDDVD     Corner bounces: 0DVDDVDDVDDVDDVD     Corner bounces: 0DVDDVDDVDDVDDVD     Corner bounces: 0DVDDVDDVDDVDDVD     Corner bounces: 0DVDDVDDVDDVDDVD     Corner bounces: 0DVDDVDDVDDVDDVD     Corner bounces: 0DVDDVDDVDDVDDVD     Corner bounces: 0DVDDVDDVDDVDDVD     Corner bounces: 0DVDDVDDVDDVDDVD     Corner bounces: 0DVDDVDDVDDVDDVD     Corner bounces: 0DVDDVDDVDDVDDVD     Corner bounces: 0DVDDVDDVDDVDDVD     Corner bounces: 0DVDDVDDVDDVDDVD     Corner bounces: 0DVDDVDDVDDVDDVD     Corner bounces: 0DVDDVDDVDDVDDVD     Corner bounces: 0DVDDVDDVDDVDDVD     Corner bounces: 0DVDDVDDVDDVDDVD     Corner bounces: 0DVDDVDDVDDVDDVD     Corner bounces: 0DVDDVDDVDDVDDVD     Corner bounces: 0DVDDVDDVDDVDDVD     Corner bounces: 0"
     ]
    },
    {
     "ename": "BextException",
     "evalue": "x coordinate is greater than terminal width 120",
     "output_type": "error",
     "traceback": [
      "\u001b[1;31m---------------------------------------------------------------------------\u001b[0m",
      "\u001b[1;31mBextException\u001b[0m                             Traceback (most recent call last)",
      "Cell \u001b[1;32mIn[12], line 4\u001b[0m\n\u001b[0;32m      2\u001b[0m \u001b[38;5;28;01mif\u001b[39;00m \u001b[38;5;18m__name__\u001b[39m \u001b[38;5;241m==\u001b[39m \u001b[38;5;124m'\u001b[39m\u001b[38;5;124m__main__\u001b[39m\u001b[38;5;124m'\u001b[39m:\n\u001b[0;32m      3\u001b[0m     \u001b[38;5;28;01mtry\u001b[39;00m:\n\u001b[1;32m----> 4\u001b[0m         \u001b[43mmain\u001b[49m\u001b[43m(\u001b[49m\u001b[43m)\u001b[49m\n\u001b[0;32m      5\u001b[0m     \u001b[38;5;28;01mexcept\u001b[39;00m \u001b[38;5;167;01mKeyboardInterrupt\u001b[39;00m:\n\u001b[0;32m      6\u001b[0m         \u001b[38;5;28mprint\u001b[39m()\n",
      "Cell \u001b[1;32mIn[11], line 89\u001b[0m, in \u001b[0;36mmain\u001b[1;34m()\u001b[0m\n\u001b[0;32m     85\u001b[0m \u001b[38;5;28mprint\u001b[39m(\u001b[38;5;124m'\u001b[39m\u001b[38;5;124mCorner bounces:\u001b[39m\u001b[38;5;124m'\u001b[39m , cornerBounces, end\u001b[38;5;241m=\u001b[39m\u001b[38;5;124m'\u001b[39m\u001b[38;5;124m'\u001b[39m)\n\u001b[0;32m     87\u001b[0m \u001b[38;5;28;01mfor\u001b[39;00m logo \u001b[38;5;129;01min\u001b[39;00m logos:\n\u001b[0;32m     88\u001b[0m     \u001b[38;5;66;03m# Draw the logos at their new location:\u001b[39;00m\n\u001b[1;32m---> 89\u001b[0m     \u001b[43mbext\u001b[49m\u001b[38;5;241;43m.\u001b[39;49m\u001b[43mgoto\u001b[49m\u001b[43m(\u001b[49m\u001b[43mlogo\u001b[49m\u001b[43m[\u001b[49m\u001b[43mX\u001b[49m\u001b[43m]\u001b[49m\u001b[43m,\u001b[49m\u001b[43mlogo\u001b[49m\u001b[43m[\u001b[49m\u001b[43mY\u001b[49m\u001b[43m]\u001b[49m\u001b[43m)\u001b[49m\n\u001b[0;32m     90\u001b[0m     bext\u001b[38;5;241m.\u001b[39mfg(logo[COLOR])\n\u001b[0;32m     91\u001b[0m     \u001b[38;5;28mprint\u001b[39m(\u001b[38;5;124m'\u001b[39m\u001b[38;5;124mDVD\u001b[39m\u001b[38;5;124m'\u001b[39m, end\u001b[38;5;241m=\u001b[39m\u001b[38;5;124m'\u001b[39m\u001b[38;5;124m'\u001b[39m)\n",
      "File \u001b[1;32m~\\AppData\\Roaming\\Python\\Python310\\site-packages\\bext\\__init__.py:532\u001b[0m, in \u001b[0;36m_goto_win32_api\u001b[1;34m(x, y)\u001b[0m\n\u001b[0;32m    529\u001b[0m width, height \u001b[38;5;241m=\u001b[39m shutil\u001b[38;5;241m.\u001b[39mget_terminal_size()\n\u001b[0;32m    531\u001b[0m \u001b[38;5;28;01mif\u001b[39;00m x \u001b[38;5;241m>\u001b[39m\u001b[38;5;241m=\u001b[39m width:\n\u001b[1;32m--> 532\u001b[0m     \u001b[38;5;28;01mraise\u001b[39;00m BextException(\u001b[38;5;124m'\u001b[39m\u001b[38;5;124mx coordinate is greater than terminal width \u001b[39m\u001b[38;5;124m'\u001b[39m \u001b[38;5;241m+\u001b[39m \u001b[38;5;28mstr\u001b[39m(width))\n\u001b[0;32m    533\u001b[0m \u001b[38;5;28;01mif\u001b[39;00m y \u001b[38;5;241m>\u001b[39m\u001b[38;5;241m=\u001b[39m height:\n\u001b[0;32m    534\u001b[0m     \u001b[38;5;28;01mraise\u001b[39;00m BextException(\u001b[38;5;124m'\u001b[39m\u001b[38;5;124my coordinate is greater than terminal height \u001b[39m\u001b[38;5;124m'\u001b[39m \u001b[38;5;241m+\u001b[39m \u001b[38;5;28mstr\u001b[39m(height))\n",
      "\u001b[1;31mBextException\u001b[0m: x coordinate is greater than terminal width 120"
     ]
    }
   ],
   "source": [
    "# IF this program was run (instead of imported ), run the game:\n",
    "if __name__ == '__main__':\n",
    "    try:\n",
    "        main()\n",
    "    except KeyboardInterrupt:\n",
    "        print()\n",
    "        print('Bouncing DVD Logo,')\n",
    "        sys.exit() # When CTRL - C pressed, end the program."
   ]
  },
  {
   "cell_type": "code",
   "execution_count": null,
   "id": "bc169384",
   "metadata": {},
   "outputs": [],
   "source": []
  }
 ],
 "metadata": {
  "kernelspec": {
   "display_name": "Python 3 (ipykernel)",
   "language": "python",
   "name": "python3"
  },
  "language_info": {
   "codemirror_mode": {
    "name": "ipython",
    "version": 3
   },
   "file_extension": ".py",
   "mimetype": "text/x-python",
   "name": "python",
   "nbconvert_exporter": "python",
   "pygments_lexer": "ipython3",
   "version": "3.10.9"
  }
 },
 "nbformat": 4,
 "nbformat_minor": 5
}
