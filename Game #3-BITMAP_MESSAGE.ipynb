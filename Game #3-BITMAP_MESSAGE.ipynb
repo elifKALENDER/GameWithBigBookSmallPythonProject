{
 "cells": [
  {
   "cell_type": "code",
   "execution_count": 1,
   "id": "7c3fb446",
   "metadata": {},
   "outputs": [],
   "source": [
    "import sys"
   ]
  },
  {
   "cell_type": "code",
   "execution_count": 2,
   "id": "ff67d815",
   "metadata": {},
   "outputs": [],
   "source": [
    "bitmap=\"\"\"\n",
    "....................................................................\n",
    "   **************   *  *** **  *      ******************************\n",
    "  ********************* ** ** *  * ****************************** *\n",
    " **      *****************       ******************************\n",
    "          *************          **  * **** ** ************** *\n",
    "           *********            *******   **************** * *\n",
    "            ********           ***************************  *\n",
    "   *        * **** ***         *************** ******  ** *\n",
    "               ****  *         ***************   *** ***  *\n",
    "                 ******         *************    **   **  *\n",
    "                 ********        *************    *  ** ***\n",
    "                   ********         ********          * *** ****\n",
    "                   *********         ******  *        **** ** * **\n",
    "                   *********         ****** * *           *** *   *\n",
    "                     ******          ***** **             *****   *\n",
    "                     *****            **** *            ********\n",
    "                    *****             ****              *********\n",
    "                    ****              **                 *******   *\n",
    "                    ***                                       *    *\n",
    "                    **     *                    *\n",
    "....................................................................\"\"\""
   ]
  },
  {
   "cell_type": "code",
   "execution_count": 3,
   "id": "7579a09d",
   "metadata": {},
   "outputs": [
    {
     "name": "stdout",
     "output_type": "stream",
     "text": [
      "Enter the message to display with the bitmap.\n"
     ]
    }
   ],
   "source": [
    "print('Enter the message to display with the bitmap.')"
   ]
  },
  {
   "cell_type": "code",
   "execution_count": 4,
   "id": "b3e00e7c",
   "metadata": {},
   "outputs": [
    {
     "name": "stdout",
     "output_type": "stream",
     "text": [
      "> 4\n"
     ]
    }
   ],
   "source": [
    "message = input('> ')\n",
    "if message== '':\n",
    "    sys.exit()"
   ]
  },
  {
   "cell_type": "code",
   "execution_count": 6,
   "id": "12769c2a",
   "metadata": {},
   "outputs": [
    {
     "name": "stdout",
     "output_type": "stream",
     "text": [
      "\n",
      "44444444444444444444444444444444444444444444444444444444444444444444\n",
      "   44444444444444   4  444 44  4      444444444444444444444444444444\n",
      "  444444444444444444444 44 44 4  4 444444444444444444444444444444 4\n",
      " 44      44444444444444444       444444444444444444444444444444\n",
      "          4444444444444          44  4 4444 44 44444444444444 4\n",
      "           444444444            4444444   4444444444444444 4 4\n",
      "            44444444           444444444444444444444444444  4\n",
      "   4        4 4444 444         444444444444444 444444  44 4\n",
      "               4444  4         444444444444444   444 444  4\n",
      "                 444444         4444444444444    44   44  4\n",
      "                 44444444        4444444444444    4  44 444\n",
      "                   44444444         44444444          4 444 4444\n",
      "                   444444444         444444  4        4444 44 4 44\n",
      "                   444444444         444444 4 4           444 4   4\n",
      "                     444444          44444 44             44444   4\n",
      "                     44444            4444 4            44444444\n",
      "                    44444             4444              444444444\n",
      "                    4444              44                 4444444   4\n",
      "                    444                                       4    4\n",
      "                    44     4                    4\n",
      "44444444444444444444444444444444444444444444444444444444444444444444\n"
     ]
    }
   ],
   "source": [
    "#Loop over each line in the bitmap:\n",
    "for line in bitmap.splitlines():\n",
    "    #Loop over each caracter in the line:\n",
    "    for i, bit in enumerate(line):\n",
    "        if bit == ' ':\n",
    "            #Print an empty space since there's a space in the bitmap:\n",
    "            print(' ',end='')\n",
    "        else:\n",
    "            #Print a caracter from the message:\n",
    "            print(message[i % len(message)],end='')\n",
    "    print() #Print a newline."
   ]
  },
  {
   "cell_type": "code",
   "execution_count": null,
   "id": "e7fad216",
   "metadata": {},
   "outputs": [],
   "source": []
  }
 ],
 "metadata": {
  "kernelspec": {
   "display_name": "Python 3 (ipykernel)",
   "language": "python",
   "name": "python3"
  },
  "language_info": {
   "codemirror_mode": {
    "name": "ipython",
    "version": 3
   },
   "file_extension": ".py",
   "mimetype": "text/x-python",
   "name": "python",
   "nbconvert_exporter": "python",
   "pygments_lexer": "ipython3",
   "version": "3.10.9"
  }
 },
 "nbformat": 4,
 "nbformat_minor": 5
}
