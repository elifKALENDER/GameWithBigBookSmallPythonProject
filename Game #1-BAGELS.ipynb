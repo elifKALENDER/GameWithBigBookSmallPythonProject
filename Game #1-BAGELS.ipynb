{
 "cells": [
  {
   "cell_type": "code",
   "execution_count": 7,
   "id": "eeea2f39",
   "metadata": {},
   "outputs": [
    {
     "data": {
      "text/plain": [
       "' \\nTags: short, game, puzzle'"
      ]
     },
     "execution_count": 7,
     "metadata": {},
     "output_type": "execute_result"
    }
   ],
   "source": [
    "\"\"\" \n",
    "Tags: short, game, puzzle\"\"\""
   ]
  },
  {
   "cell_type": "code",
   "execution_count": 8,
   "id": "f429a452",
   "metadata": {},
   "outputs": [],
   "source": [
    "import random"
   ]
  },
  {
   "cell_type": "code",
   "execution_count": 9,
   "id": "9dd68357",
   "metadata": {},
   "outputs": [],
   "source": [
    "NUM_DIGITS= 3   "
   ]
  },
  {
   "cell_type": "code",
   "execution_count": 10,
   "id": "3ff44817",
   "metadata": {},
   "outputs": [],
   "source": [
    "MAX_GUESSES= 10 "
   ]
  },
  {
   "cell_type": "code",
   "execution_count": 11,
   "id": "da13df0b",
   "metadata": {},
   "outputs": [],
   "source": [
    "def main():\n",
    "    print('''Bagels, a deductive logic game.\n",
    "    by Al Sweigart al@inventwithpython.com\n",
    "    I am thinking of a {}-digit number with no repeated digits.\n",
    "    Try to guess what it is. Here are some clues:\n",
    "    When I say:    That means:\n",
    "      Pico         One digit is correct but in the wrong position.\n",
    "      Fermi        One digit is correct and in the right position.\n",
    "      Bagels       No digit is correct.\n",
    "    For example, if the secret number was 248 and your guess was 843, the \n",
    "    clues would be Fermi Pico.'''.format(NUM_DIGITS))"
   ]
  },
  {
   "cell_type": "code",
   "execution_count": 12,
   "id": "f42d3663",
   "metadata": {},
   "outputs": [
    {
     "ename": "NameError",
     "evalue": "name 'getSecretNum' is not defined",
     "output_type": "error",
     "traceback": [
      "\u001b[1;31m---------------------------------------------------------------------------\u001b[0m",
      "\u001b[1;31mNameError\u001b[0m                                 Traceback (most recent call last)",
      "Cell \u001b[1;32mIn[12], line 2\u001b[0m\n\u001b[0;32m      1\u001b[0m \u001b[38;5;28;01mwhile\u001b[39;00m \u001b[38;5;28;01mTrue\u001b[39;00m:\n\u001b[1;32m----> 2\u001b[0m     secretNum \u001b[38;5;241m=\u001b[39m \u001b[43mgetSecretNum\u001b[49m()\n\u001b[0;32m      3\u001b[0m     \u001b[38;5;28mprint\u001b[39m(\u001b[38;5;124m'\u001b[39m\u001b[38;5;124mI have thought up a number.\u001b[39m\u001b[38;5;124m'\u001b[39m)\n\u001b[0;32m      4\u001b[0m     \u001b[38;5;28mprint\u001b[39m(\u001b[38;5;124m'\u001b[39m\u001b[38;5;124m You have \u001b[39m\u001b[38;5;132;01m{}\u001b[39;00m\u001b[38;5;124m guesses to get it.\u001b[39m\u001b[38;5;124m'\u001b[39m\u001b[38;5;241m.\u001b[39mformat(MAX_GUESSES))\n",
      "\u001b[1;31mNameError\u001b[0m: name 'getSecretNum' is not defined"
     ]
    }
   ],
   "source": [
    "    while True:\n",
    "        secretNum = getSecretNum()\n",
    "        print('I have thought up a number.')\n",
    "        print(' You have {} guesses to get it.'.format(MAX_GUESSES))\n",
    "        \n",
    "        numGuesses = 1\n",
    "        while numGuesses <= MAX_GUESSES:\n",
    "            guess = ''\n",
    "            while len(guess) != NUM_DIGITS or not guess.isdecimal():\n",
    "                print('Guess #{}: '.format(numGuesses))\n",
    "                guess = input('> ')\n",
    "                \n",
    "            clues = getClues(guess, secretNum)\n",
    "            print(clues)\n",
    "            numGuesses += 1\n",
    "            \n",
    "            if guess == secretNum:\n",
    "                break\n",
    "            if numGuesses > MAX_GUESSES:\n",
    "                print('You ran out of guesses.')\n",
    "                print('Thae answer was {}.'.format(secretNum))\n",
    "        print('Do you want to play again? (yes or no)')\n",
    "        if not input('> ').lower().startswith('y'):\n",
    "            break\n",
    "    print('Thanks for playing!')"
   ]
  },
  {
   "cell_type": "code",
   "execution_count": null,
   "id": "6f564872",
   "metadata": {},
   "outputs": [],
   "source": [
    "def getSecretNum():\n",
    "    numbers = list('0123456789')\n",
    "    random.shuffle(numbers)\n",
    "    secretNum = ''\n",
    "    for i in range(NUM_DIGITS):\n",
    "        secretNum += str(numbers[i])\n",
    "    return secretNum    \n",
    "    "
   ]
  },
  {
   "cell_type": "code",
   "execution_count": null,
   "id": "d18cbbf9",
   "metadata": {},
   "outputs": [],
   "source": [
    "def getClues(guess, secretNum):\n",
    "    if guess == secretNum:\n",
    "        return 'You got it!'\n",
    "    clues =[]\n",
    "    \n",
    "    for i in range(len(guess)):\n",
    "        if guess[i] == secretNum[i]:\n",
    "            clues.append('Fermi')\n",
    "        elif guess[i] in secretNum:\n",
    "            clues.append('Pico')\n",
    "    if len(clues) == 0:\n",
    "        return 'Bagels'\n",
    "    else:\n",
    "        clues.sort()\n",
    "        return ' '.join(clues)\n",
    "    "
   ]
  },
  {
   "cell_type": "code",
   "execution_count": null,
   "id": "c708da2b",
   "metadata": {},
   "outputs": [],
   "source": [
    "if __name__== '__main__':\n",
    "    main()"
   ]
  },
  {
   "cell_type": "code",
   "execution_count": null,
   "id": "86f0e69c",
   "metadata": {},
   "outputs": [],
   "source": []
  }
 ],
 "metadata": {
  "kernelspec": {
   "display_name": "Python 3 (ipykernel)",
   "language": "python",
   "name": "python3"
  },
  "language_info": {
   "codemirror_mode": {
    "name": "ipython",
    "version": 3
   },
   "file_extension": ".py",
   "mimetype": "text/x-python",
   "name": "python",
   "nbconvert_exporter": "python",
   "pygments_lexer": "ipython3",
   "version": "3.10.9"
  }
 },
 "nbformat": 4,
 "nbformat_minor": 5
}
